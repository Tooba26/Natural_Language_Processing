{
 "cells": [
  {
   "cell_type": "markdown",
   "metadata": {},
   "source": [
    "# Preprocessing Techniques\n",
    "1. Tokenization\n",
    "    - Normal\n",
    "    - Byte-Pair Encoding\n",
    "    - Word Piece \n",
    "    - Unigram\n",
    "\n",
    "    ### Types oof Tokenization:\n",
    "\n",
    "    1) Word Tokenization\n",
    "       e.g., Sentence = ['We are playing']\n",
    "             Tokenized Sentence = ['we', 'are', 'playing']\n",
    "    2) Character Tokenization\n",
    "             char_tokenized = ['w', 'e', 'a', 'r', 'e', 'p','l','a','y','i','n','g']\n",
    "    3) Subword Tokenization\n",
    "             example = ['Chatbot']\n",
    "             subword_tokenized = ['Chat','bot']\n",
    "\n",
    "2. Numericalization"
   ]
  },
  {
   "cell_type": "code",
   "execution_count": null,
   "metadata": {
    "vscode": {
     "languageId": "plaintext"
    }
   },
   "outputs": [],
   "source": []
  }
 ],
 "metadata": {
  "language_info": {
   "name": "python"
  }
 },
 "nbformat": 4,
 "nbformat_minor": 2
}
