{
 "cells": [
  {
   "cell_type": "markdown",
   "metadata": {},
   "source": [
    "# Preprocessing Techniques\n",
    "1. Tokenization\n",
    "    - Normal\n",
    "    - Byte-Pair Encoding\n",
    "    - Word Piece \n",
    "    - Unigram\n",
    "\n",
    "    ### Types of Tokenization:\n",
    "\n",
    "    1) Word Tokenization\n",
    "       e.g., Sentence = ['We are playing'],\n",
    "             Tokenized Sentence = ['we', 'are', 'playing']\n",
    "    2) Character Tokenization\n",
    "             char_tokenized = ['w', 'e', 'a', 'r', 'e', 'p','l','a','y','i','n','g']\n",
    "    3) Subword Tokenization\n",
    "             example = ['Chatbot'],\n",
    "             subword_tokenized = ['Chat','bot']\n",
    "\n",
    "2. Numericalization"
   ]
  },
  {
   "cell_type": "markdown",
   "metadata": {},
   "source": [
    "# Code from scratch"
   ]
  },
  {
   "cell_type": "markdown",
   "metadata": {},
   "source": [
    "Normal Tokenization"
   ]
  },
  {
   "cell_type": "code",
   "execution_count": null,
   "metadata": {},
   "outputs": [],
   "source": [
    "import re\n",
    "def normal_tokenize(text, lower_case=True):\n",
    "    if lower_case:\n",
    "        text = text.lower()\n",
    "\n",
    "    # Using regex to split text by whitespaces and keep punctuations seperate\n",
    "    # \\w+ => Matches alphanumeric words\n",
    "    # [^\\w\\s] => Matches any punctuations and special characters.\n",
    "    tokens = re.findall(r\"\\w+|[^\\w\\s]\", text, re.UNICODE)\n",
    "\n",
    "    return tokens\n",
    "\n"
   ]
  },
  {
   "cell_type": "code",
   "execution_count": 3,
   "metadata": {},
   "outputs": [
    {
     "name": "stdout",
     "output_type": "stream",
     "text": [
      "['hello', ',', 'i', 'am', 'learning', 'nlp']\n"
     ]
    }
   ],
   "source": [
    "# Example\n",
    "text = \"Hello, I am Learning NLP\"\n",
    "tokenized = normal_tokenize(text)\n",
    "print(tokenized)"
   ]
  },
  {
   "cell_type": "code",
   "execution_count": null,
   "metadata": {},
   "outputs": [],
   "source": []
  }
 ],
 "metadata": {
  "kernelspec": {
   "display_name": "Python 3",
   "language": "python",
   "name": "python3"
  },
  "language_info": {
   "codemirror_mode": {
    "name": "ipython",
    "version": 3
   },
   "file_extension": ".py",
   "mimetype": "text/x-python",
   "name": "python",
   "nbconvert_exporter": "python",
   "pygments_lexer": "ipython3",
   "version": "3.12.5"
  }
 },
 "nbformat": 4,
 "nbformat_minor": 2
}
